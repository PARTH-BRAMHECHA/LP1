{
 "cells": [
  {
   "cell_type": "code",
   "execution_count": 16,
   "metadata": {},
   "outputs": [],
   "source": [
    "from sklearn.svm import SVC\n",
    "from sklearn.metrics import accuracy_score,classification_report\n",
    "from sklearn.model_selection import train_test_split\n",
    "import pandas as pd"
   ]
  },
  {
   "cell_type": "code",
   "execution_count": 17,
   "metadata": {},
   "outputs": [
    {
     "name": "stdout",
     "output_type": "stream",
     "text": [
      "User ID                         int64\n",
      "Device Model                   object\n",
      "Operating System               object\n",
      "App Usage Time (min/day)        int64\n",
      "Screen On Time (hours/day)    float64\n",
      "Battery Drain (mAh/day)         int64\n",
      "Number of Apps Installed        int64\n",
      "Data Usage (MB/day)             int64\n",
      "Age                             int64\n",
      "Gender                         object\n",
      "User Behavior Class             int64\n",
      "dtype: object\n"
     ]
    }
   ],
   "source": [
    "df=pd.read_csv(\"user_behavior_dataset.csv\")\n",
    "print(df.dtypes)\n",
    "# print(df.isnull().sum())"
   ]
  },
  {
   "cell_type": "code",
   "execution_count": 26,
   "metadata": {},
   "outputs": [
    {
     "name": "stdout",
     "output_type": "stream",
     "text": [
      "['Google Pixel 5' 'OnePlus 9' 'Xiaomi Mi 11' 'iPhone 12'\n",
      " 'Samsung Galaxy S21']\n",
      "['Male' 'Female']\n"
     ]
    }
   ],
   "source": [
    "# df['Operating System'].unique()\n",
    "print(df['Device Model'].unique())\n",
    "print(df['Gender'].unique())"
   ]
  },
  {
   "cell_type": "code",
   "execution_count": 33,
   "metadata": {},
   "outputs": [
    {
     "name": "stderr",
     "output_type": "stream",
     "text": [
      "C:\\Users\\Purav\\AppData\\Local\\Temp\\ipykernel_1228\\2374283330.py:19: FutureWarning: Downcasting behavior in `replace` is deprecated and will be removed in a future version. To retain the old behavior, explicitly call `result.infer_objects(copy=False)`. To opt-in to the future behavior, set `pd.set_option('future.no_silent_downcasting', True)`\n",
      "  df['Device Model'].replace(dvm,inplace=True)\n"
     ]
    }
   ],
   "source": [
    "opss={\n",
    "    \"Android\":0,\n",
    "    \"iOS\":1\n",
    "}\n",
    "df['Operating System'].replace(opss,inplace=True)\n",
    "\n",
    "dvm={\n",
    "    \"Google Pixel 5\":0,\n",
    "    \"OnePlus 9\":1,\n",
    "    \"Xiaomi Mi 11\":2,\n",
    "    \"iPhone 12\":3,\n",
    "    \"Samsung Galaxy S21\":4\n",
    "}\n",
    "gen={\n",
    "    \"Male\":0,\n",
    "    \"Female\":1\n",
    "}\n",
    "\n",
    "df['Device Model'].replace(dvm,inplace=True)\n",
    "df['Gender'].replace(gen,inplace=True)\n",
    "\n"
   ]
  },
  {
   "cell_type": "code",
   "execution_count": 37,
   "metadata": {},
   "outputs": [
    {
     "name": "stdout",
     "output_type": "stream",
     "text": [
      "0.49714285714285716\n",
      "              precision    recall  f1-score   support\n",
      "\n",
      "           0       0.50      0.99      0.66        88\n",
      "           1       0.00      0.00      0.00        87\n",
      "\n",
      "    accuracy                           0.50       175\n",
      "   macro avg       0.25      0.49      0.33       175\n",
      "weighted avg       0.25      0.50      0.33       175\n",
      "\n"
     ]
    }
   ],
   "source": [
    "X=df.drop('Gender',axis=1)\n",
    "y=df['Gender']\n",
    "\n",
    "X_train,X_test,y_train,y_test=train_test_split(X,y,test_size=.25,random_state=42)\n",
    "svm_model=SVC(kernel='poly')\n",
    "svm_model.fit(X_train,y_train)\n",
    "\n",
    "y_pred=svm_model.predict(X_test)\n",
    "accurracy=accuracy_score(y_test,y_pred)\n",
    "print(accurracy)\n",
    "\n",
    "print(classification_report(y_test,y_pred))\n",
    "\n"
   ]
  }
 ],
 "metadata": {
  "kernelspec": {
   "display_name": "Python 3",
   "language": "python",
   "name": "python3"
  },
  "language_info": {
   "codemirror_mode": {
    "name": "ipython",
    "version": 3
   },
   "file_extension": ".py",
   "mimetype": "text/x-python",
   "name": "python",
   "nbconvert_exporter": "python",
   "pygments_lexer": "ipython3",
   "version": "3.10.9"
  }
 },
 "nbformat": 4,
 "nbformat_minor": 2
}
