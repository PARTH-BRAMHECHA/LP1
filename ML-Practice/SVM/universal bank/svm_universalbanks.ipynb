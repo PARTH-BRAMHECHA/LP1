{
 "cells": [
  {
   "cell_type": "code",
   "execution_count": 1,
   "metadata": {},
   "outputs": [],
   "source": [
    "import pandas as pd\n",
    "import numpy as np\n"
   ]
  },
  {
   "cell_type": "code",
   "execution_count": 2,
   "metadata": {},
   "outputs": [
    {
     "name": "stdout",
     "output_type": "stream",
     "text": [
      "   ID  Age  Experience  Income  ZIP Code  Family  CCAvg  Education  Mortgage  \\\n",
      "0   1   25           1      49     91107       4    1.6          1         0   \n",
      "1   2   45          19      34     90089       3    1.5          1         0   \n",
      "2   3   39          15      11     94720       1    1.0          1         0   \n",
      "3   4   35           9     100     94112       1    2.7          2         0   \n",
      "4   5   35           8      45     91330       4    1.0          2         0   \n",
      "\n",
      "   PersonalLoan  SecuritiesAccount  CDAccount  Online  CreditCard  \n",
      "0             0                  1          0       0           0  \n",
      "1             0                  1          0       0           0  \n",
      "2             0                  0          0       0           0  \n",
      "3             0                  0          0       0           0  \n",
      "4             0                  0          0       0           1  \n"
     ]
    }
   ],
   "source": [
    "df=pd.read_csv(\"UniversalBank.csv\");\n",
    "print(df.head(5))"
   ]
  },
  {
   "cell_type": "code",
   "execution_count": 3,
   "metadata": {},
   "outputs": [
    {
     "data": {
      "text/plain": [
       "ID                   5000\n",
       "Age                    45\n",
       "Experience             47\n",
       "Income                162\n",
       "ZIP Code              467\n",
       "Family                  4\n",
       "CCAvg                 108\n",
       "Education               3\n",
       "Mortgage              347\n",
       "PersonalLoan            2\n",
       "SecuritiesAccount       2\n",
       "CDAccount               2\n",
       "Online                  2\n",
       "CreditCard              2\n",
       "dtype: int64"
      ]
     },
     "execution_count": 3,
     "metadata": {},
     "output_type": "execute_result"
    }
   ],
   "source": [
    "df.isnull().sum()\n",
    "df.nunique()"
   ]
  },
  {
   "cell_type": "code",
   "execution_count": 4,
   "metadata": {},
   "outputs": [
    {
     "name": "stdout",
     "output_type": "stream",
     "text": [
      "        ID  Age  Experience  Income  ZIP Code  Family  CCAvg  Education  \\\n",
      "0        0    2           4      33        83       3     19          0   \n",
      "1        1   22          22      22        34       2     18          0   \n",
      "2        2   16          18       3       367       0     12          0   \n",
      "3        3   12          12      74       298       0     34          1   \n",
      "4        4   12          11      31        96       3     12          1   \n",
      "...    ...  ...         ...     ...       ...     ...    ...        ...   \n",
      "4995  4995    6           6      26       209       0     24          2   \n",
      "4996  4996    7           7       7       141       3      4          0   \n",
      "4997  4997   40          42      14       235       1      3          2   \n",
      "4998  4998   42          43      33        15       2      5          1   \n",
      "4999  4999    5           7      61       190       2     10          0   \n",
      "\n",
      "      Mortgage  PersonalLoan  SecuritiesAccount  CDAccount  Online  CreditCard  \n",
      "0            0             0                  1          0       0           0  \n",
      "1            0             0                  1          0       0           0  \n",
      "2            0             0                  0          0       0           0  \n",
      "3            0             0                  0          0       0           0  \n",
      "4            0             0                  0          0       0           1  \n",
      "...        ...           ...                ...        ...     ...         ...  \n",
      "4995         0             0                  0          0       1           0  \n",
      "4996        11             0                  0          0       1           0  \n",
      "4997         0             0                  0          0       0           0  \n",
      "4998         0             0                  0          0       1           0  \n",
      "4999         0             0                  0          0       1           1  \n",
      "\n",
      "[5000 rows x 14 columns]\n"
     ]
    }
   ],
   "source": [
    "from sklearn.preprocessing import LabelEncoder\n",
    "\n",
    "df2=pd.read_csv(\"UniversalBank.csv\")\n",
    "\n",
    "for columns in df.columns:\n",
    "        le=LabelEncoder()\n",
    "        df[columns]=le.fit_transform(df[columns])\n",
    "    \n",
    "print(df)"
   ]
  },
  {
   "cell_type": "code",
   "execution_count": 11,
   "metadata": {},
   "outputs": [
    {
     "name": "stdout",
     "output_type": "stream",
     "text": [
      "0.7112\n",
      "              precision    recall  f1-score   support\n",
      "\n",
      "           0       0.71      1.00      0.83       889\n",
      "           1       0.00      0.00      0.00       361\n",
      "\n",
      "    accuracy                           0.71      1250\n",
      "   macro avg       0.36      0.50      0.42      1250\n",
      "weighted avg       0.51      0.71      0.59      1250\n",
      "\n"
     ]
    },
    {
     "name": "stderr",
     "output_type": "stream",
     "text": [
      "C:\\Users\\ASUS Vivobook\\anaconda3\\Lib\\site-packages\\sklearn\\metrics\\_classification.py:1509: UndefinedMetricWarning: Precision is ill-defined and being set to 0.0 in labels with no predicted samples. Use `zero_division` parameter to control this behavior.\n",
      "  _warn_prf(average, modifier, f\"{metric.capitalize()} is\", len(result))\n",
      "C:\\Users\\ASUS Vivobook\\anaconda3\\Lib\\site-packages\\sklearn\\metrics\\_classification.py:1509: UndefinedMetricWarning: Precision is ill-defined and being set to 0.0 in labels with no predicted samples. Use `zero_division` parameter to control this behavior.\n",
      "  _warn_prf(average, modifier, f\"{metric.capitalize()} is\", len(result))\n",
      "C:\\Users\\ASUS Vivobook\\anaconda3\\Lib\\site-packages\\sklearn\\metrics\\_classification.py:1509: UndefinedMetricWarning: Precision is ill-defined and being set to 0.0 in labels with no predicted samples. Use `zero_division` parameter to control this behavior.\n",
      "  _warn_prf(average, modifier, f\"{metric.capitalize()} is\", len(result))\n"
     ]
    }
   ],
   "source": [
    "from sklearn.svm import SVC\n",
    "from sklearn.model_selection import train_test_split\n",
    "from sklearn.metrics import accuracy_score,classification_report\n",
    "\n",
    "X=df2.drop('CreditCard',axis=1)\n",
    "y=df2['CreditCard']\n",
    "\n",
    "X_train, X_test,y_train,y_test=train_test_split(X,y,test_size=0.25,random_state=42)\n",
    "\n",
    "svm_model=SVC(kernel='linear')\n",
    "svm_model.fit(X_train,y_train)\n",
    "\n",
    "y_pred=svm_model.predict(X_test)\n",
    "\n",
    "accurracy=accuracy_score(y_test,y_pred)\n",
    "print(accurracy)\n",
    "\n",
    "print(classification_report(y_test,y_pred))\n",
    "\n"
   ]
  },
  {
   "cell_type": "code",
   "execution_count": 13,
   "metadata": {},
   "outputs": [
    {
     "name": "stdout",
     "output_type": "stream",
     "text": [
      "[[889   0]\n",
      " [361   0]]\n"
     ]
    }
   ],
   "source": [
    "import seaborn as sns\n",
    "from sklearn.metrics import confusion_matrix\n",
    "con=confusion_matrix(y_test,y_pred)\n",
    "print(con)"
   ]
  },
  {
   "cell_type": "code",
   "execution_count": 15,
   "metadata": {},
   "outputs": [
    {
     "ename": "NameError",
     "evalue": "name 'con' is not defined",
     "output_type": "error",
     "traceback": [
      "\u001b[1;31m---------------------------------------------------------------------------\u001b[0m",
      "\u001b[1;31mNameError\u001b[0m                                 Traceback (most recent call last)",
      "Cell \u001b[1;32mIn[15], line 1\u001b[0m\n\u001b[1;32m----> 1\u001b[0m sns(con)\n",
      "\u001b[1;31mNameError\u001b[0m: name 'con' is not defined"
     ]
    }
   ],
   "source": [
    "sns.heatmap(con)"
   ]
  },
  {
   "cell_type": "code",
   "execution_count": null,
   "metadata": {},
   "outputs": [],
   "source": []
  }
 ],
 "metadata": {
  "kernelspec": {
   "display_name": "Python 3 (ipykernel)",
   "language": "python",
   "name": "python3"
  },
  "language_info": {
   "codemirror_mode": {
    "name": "ipython",
    "version": 3
   },
   "file_extension": ".py",
   "mimetype": "text/x-python",
   "name": "python",
   "nbconvert_exporter": "python",
   "pygments_lexer": "ipython3",
   "version": "3.12.4"
  }
 },
 "nbformat": 4,
 "nbformat_minor": 4
}
